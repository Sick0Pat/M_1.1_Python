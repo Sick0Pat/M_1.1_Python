{
 "cells": [
  {
   "cell_type": "markdown",
   "metadata": {},
   "source": [
    "# 11 Ejercicios en Python para desarrolladores junior\n",
    "\n",
    ">Patrick Armenta\n",
    "\n",
    "### Progreso:\n",
    "\n",
    "- [x] Par o impar\n",
    "- [x] Juego de MadLibs\n",
    "- [x] Contador de palabras\n",
    "- [x] Información biográfica\n",
    "- [x] ¿Cuál es mi acrónimo?\n",
    "- [x] Piedra Papel tijeras\n",
    "- [] Adivina el número\n",
    "- [] es un palindromo\n",
    "- [] Calcula la propina\n",
    "- [] Cortador de correo electrónico\n",
    "- [] Generador de letras\n"
   ]
  },
  {
   "cell_type": "markdown",
   "metadata": {},
   "source": [
    "## Par o impar\n",
    "El usuario ingresa un número y el programita le dice si es par o impar"
   ]
  },
  {
   "cell_type": "code",
   "execution_count": 1,
   "metadata": {},
   "outputs": [
    {
     "name": "stdout",
     "output_type": "stream",
     "text": [
      "¡5 es impar!\n"
     ]
    }
   ],
   "source": [
    "n = int(input(\"¿En que numero estas pensando? \"))\n",
    "\n",
    "if (n % 2) == 0:\n",
    "    print(\"¡\" + str(n) + \" es par!\")\n",
    "else:\n",
    "    print(\"¡\" + str(n) + \" es impar!\")\n"
   ]
  },
  {
   "cell_type": "markdown",
   "metadata": {},
   "source": [
    "## MadLibs en español :v\n",
    "Se le pide al usuario que ingrese nombres, adjetivos, sustantivos, etc. y hacemos una historia bien random con estos"
   ]
  },
  {
   "cell_type": "code",
   "execution_count": 2,
   "metadata": {},
   "outputs": [
    {
     "name": "stdout",
     "output_type": "stream",
     "text": [
      "\n",
      " Patrick estaba muy preocupado. Tenia examen en la clase de Programacion con Python, pero como olvidó su compu madreada en su méndigo trabajo no pudo estudiar. Durante el examen no sabia la respuesta a la pregunta numero 1, \"¿Qué es Python?\", El pensó y escribió \"un viborón bien maligno :v\". Al terminar el examen, su maestro, Edgar, le dijo, \"¡Ah como eres cabezón!.\n"
     ]
    }
   ],
   "source": [
    "nombre = input(\"Un nombre masculino: \")\n",
    "materia = input(\"Una materia de la escuela: \")\n",
    "sus1 = input(\"Un sustantivo sin artículo: \")\n",
    "adj1 = input(\"Un adjetivo relacionado: \")\n",
    "adj2 = input(\"otro adjetivo: \")\n",
    "sus2 = input(\"otro sustantivo sin artículo relacionado: \")\n",
    "num = input(\"un número: \")\n",
    "pregunta = input(\"una pregunta de examen con puntuacion: \")\n",
    "respuesta = input(\"una respuesta mamalona: \")\n",
    "profe = input(\"el nombre del maestro de Python: \")\n",
    "frase = input(\"Una frase: \")\n",
    "\n",
    "print(\n",
    "    \"\\n\"+\n",
    "    nombre,\n",
    "    \"estaba muy preocupado. Tenia examen en la clase de\",\n",
    "    materia + \", pero como olvidó su\",\n",
    "    sus1,\n",
    "    adj1,\n",
    "    \"en su\",\n",
    "    adj2,\n",
    "    sus2,\n",
    "    \"no pudo estudiar. Durante el examen no sabia la respuesta\",\n",
    "    \"a la pregunta numero\",\n",
    "    num + ', \"' + pregunta + '\",',\n",
    "    \"El pensó y escribió\",\n",
    "    '\"' + respuesta + '\".',\n",
    "    \"Al terminar el examen, su maestro,\",\n",
    "    profe + \", le dijo,\",\n",
    "    '\"' + frase + \".\",\n",
    ")\n",
    "\n",
    "# Historia plagiada de 'Spanish MadLibs - Flippity.net'"
   ]
  },
  {
   "cell_type": "markdown",
   "metadata": {},
   "source": [
    "## Contador de palabras\n",
    "Le preguntamos al usuario que esta pensand. Acto seguido, lo ignoramos \n",
    "por completo y le decimos el numero de palabras que escribió"
   ]
  },
  {
   "cell_type": "code",
   "execution_count": 4,
   "metadata": {},
   "outputs": [
    {
     "name": "stdout",
     "output_type": "stream",
     "text": [
      "\n",
      "Orale, no pues fijate que escribiste 11 palabras.\n"
     ]
    }
   ],
   "source": [
    "oracion = input(\"¿Qué estás pensando? \")\n",
    "num = len(oracion.split())\n",
    "print(\"\\n\"+\"Orale, no pues fijate que escribiste\", num, \"palabras.\")\n"
   ]
  },
  {
   "cell_type": "markdown",
   "metadata": {},
   "source": [
    "## Información Biográfica\n",
    "Se le pide al usuario que ingrese informacion personal ~~para venderla a empresas de telemarketing~~ una pregunta a la vez. El programa debera verificar que la informcion sea \"valida\" y al final imprimir un resumen de los datos ingresados."
   ]
  },
  {
   "cell_type": "code",
   "execution_count": 5,
   "metadata": {},
   "outputs": [
    {
     "name": "stdout",
     "output_type": "stream",
     "text": [
      "\n",
      "Nombre: Patrick\n",
      "Fecha de nacimiento: 04/26/93\n",
      "Dirección: por ahi\n",
      "Metas personales: ser siempre el mejor, mejor que nadie mas\n"
     ]
    }
   ],
   "source": [
    "from datetime import datetime\n",
    "\n",
    "while True:\n",
    "    nombre = input(\"Escriba su nombre: \")\n",
    "    if not nombre.isalpha():\n",
    "        print(\"Favor de usar solo letras.\")\n",
    "        continue\n",
    "    else:\n",
    "        break\n",
    "\n",
    "while True:\n",
    "    dob = input(\n",
    "        \"Escriba su fecha de nacimiento en el formato (ejem: 2000,1,14): \")\n",
    "    año, mes, dia = map(int, dob.split(','))\n",
    "    if año < 1900 and año > 2020:\n",
    "        print(\"Favor de ingresar una fecha valida.\")\n",
    "        continue\n",
    "    else:\n",
    "        fecha = datetime(año, mes, dia)\n",
    "        break\n",
    "\n",
    "dir = input(\"Escriba su direccion: \")\n",
    "meta = input(\"Escriba sus metas personales: \")\n",
    "\n",
    "print(\n",
    "    \"\\n\" +\n",
    "    \"Nombre: \"+nombre+\"\\n\" +\n",
    "    \"Fecha de nacimiento: \"+(fecha.strftime(\"%x\"))+\"\\n\" +\n",
    "    \"Dirección: \"+dir+\"\\n\" +\n",
    "    \"Metas personales: \"+meta\n",
    ")\n"
   ]
  },
  {
   "cell_type": "markdown",
   "metadata": {},
   "source": [
    "## ¿Cuál es mi acrónimo?\n",
    "El usuario ingresa el nombre completo de una organización o concepto y se le proporcionará su acrónimo al usuario."
   ]
  },
  {
   "cell_type": "code",
   "execution_count": 1,
   "metadata": {},
   "outputs": [
    {
     "name": "stdout",
     "output_type": "stream",
     "text": [
      "EU\n"
     ]
    }
   ],
   "source": [
    "n = input(\"Escriba un nombre completo de una organización o concepto: \")\n",
    "name = (n.replace(\"de\", \"\"))\n",
    "num = name.split()\n",
    "\n",
    "acro = \"\"\n",
    "for i in num:\n",
    "    acro += i[0].upper()\n",
    "\n",
    "print(acro)\n"
   ]
  },
  {
   "cell_type": "markdown",
   "metadata": {},
   "source": [
    "## Piedra, Papel o Tijeras\n",
    "\n",
    "Pos piedra papel o tijeras, pero en Python, ohsi\n"
   ]
  },
  {
   "cell_type": "code",
   "execution_count": 2,
   "metadata": {},
   "outputs": [
    {
     "name": "stdout",
     "output_type": "stream",
     "text": [
      "Piedra ✊ Papel ✋ o Tijeras ✌\n",
      "\n",
      "PC --> ✋ vs ✊ <-- Jugador\n",
      "PC gana!\n"
     ]
    }
   ],
   "source": [
    "from random import randint\n",
    "\n",
    "eleccion = [\"piedra\", \"papel\", \"tijeras\"]\n",
    "compu = eleccion[randint(0, 2)]\n",
    "if compu == \"piedra\":\n",
    "    c = compu.replace(\"piedra\", \"✊\")\n",
    "elif compu == \"papel\":\n",
    "    c = compu.replace(\"papel\", \"✋\")\n",
    "else:\n",
    "    c = compu.replace(\"tijeras\", \"✌\")\n",
    "\n",
    "print(\"Piedra ✊\", \"Papel ✋\", \"o Tijeras ✌\\n\")\n",
    "jugador = input(\"Elije: \").lower()\n",
    "compu = eleccion[randint(0, 2)]\n",
    "\n",
    "if jugador == \"piedra\":\n",
    "    j = jugador.replace(\"piedra\", \"✊\")\n",
    "elif jugador == \"papel\":\n",
    "    j = jugador.replace(\"papel\", \"✋\")\n",
    "else:\n",
    "    j = jugador.replace(\"tijeras\", \"✌\")\n",
    "\n",
    "print(\"PC -->\", c, \"vs\", j, \"<-- Jugador\")\n",
    "\n",
    "if c == j:\n",
    "    print(\"Empáte\")\n",
    "elif c == \"✊\" and j == \"✋\":\n",
    "    print(\"Jugdor gana!\")\n",
    "elif c == \"✊\" and j == \"✌\":\n",
    "    print(\"PC gana!\")\n",
    "elif c == \"✋\" and j == \"✌\":\n",
    "    print(\"Jugador gana!\")\n",
    "elif c == \"✋\" and j == \"✊\":\n",
    "    print(\"PC gana!\")\n",
    "elif c == \"✌\" and j == \"✊\":\n",
    "    print(\"Jugador gana!\")\n",
    "elif c == \"✌\" and j == \"✋\":\n",
    "    print(\"PC gana!\")\n"
   ]
  },
  {
   "cell_type": "markdown",
   "metadata": {},
   "source": [
    "## Adivina el número\n",
    "\n",
    "Le pides a un usuario que adivine un número entre 1 y 50.\n",
    "\n",
    "Si adivinan fuera de ese rango, les indicará un mensaje de error alentándolos a elegir un número dentro del rango adecuado.\n",
    "\n",
    "Cada vez que adivinan el número equivocado, les preguntas si quieren seguir jugando o si quieren dejarlo.\n",
    "\n",
    "Finalmente, cuando el usuario finalmente adivina el número correcto, lo felicita y le muestra la cantidad de intentos que tuvo."
   ]
  },
  {
   "cell_type": "code",
   "execution_count": null,
   "metadata": {},
   "outputs": [],
   "source": []
  }
 ],
 "metadata": {
  "kernelspec": {
   "display_name": "Python 3.10.8 64-bit",
   "language": "python",
   "name": "python3"
  },
  "language_info": {
   "codemirror_mode": {
    "name": "ipython",
    "version": 3
   },
   "file_extension": ".py",
   "mimetype": "text/x-python",
   "name": "python",
   "nbconvert_exporter": "python",
   "pygments_lexer": "ipython3",
   "version": "3.10.8"
  },
  "orig_nbformat": 4,
  "vscode": {
   "interpreter": {
    "hash": "433d5821f6878cff8ecdf6c044b975ec56750e44a996653da958528f60de06dc"
   }
  }
 },
 "nbformat": 4,
 "nbformat_minor": 2
}
