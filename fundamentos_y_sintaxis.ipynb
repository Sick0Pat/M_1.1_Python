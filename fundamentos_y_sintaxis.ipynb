{
 "cells": [
  {
   "cell_type": "markdown",
   "metadata": {},
   "source": [
    "# 11 Ejercicios en Python para desarrolladores junior\n",
    "\n",
    ">Patrick Armenta\n",
    "\n",
    "### Progreso:\n",
    "\n",
    "- [x] Par o impar\n",
    "- [x] Juego de MadLibs\n",
    "- [x] Contador de palabras\n",
    "- [x] Información biográfica\n",
    "- [x] ¿Cuál es mi acrónimo?\n",
    "- [x] Piedra Papel tijeras\n",
    "- [x] Adivina el número\n",
    "- [x] es un palindromo\n",
    "- [ ] Calcula la propina\n",
    "- [ ] Cortador de correo electrónico\n",
    "- [ ] Generador de letras\n",
    "\n"
   ]
  },
  {
   "cell_type": "markdown",
   "metadata": {},
   "source": [
    "## Par o impar\n",
    "El usuario ingresa un número y el programita le dice si es par o impar"
   ]
  },
  {
   "cell_type": "code",
   "execution_count": 1,
   "metadata": {},
   "outputs": [
    {
     "name": "stdout",
     "output_type": "stream",
     "text": [
      "¡5 es impar!\n"
     ]
    }
   ],
   "source": [
    "n = int(input(\"¿En que numero estas pensando? \"))\n",
    "\n",
    "if (n % 2) == 0:\n",
    "    print(\"¡\" + str(n) + \" es par!\")\n",
    "else:\n",
    "    print(\"¡\" + str(n) + \" es impar!\")\n"
   ]
  },
  {
   "cell_type": "markdown",
   "metadata": {},
   "source": [
    "## MadLibs en español :v\n",
    "Se le pide al usuario que ingrese nombres, adjetivos, sustantivos, etc. y hacemos una historia bien random con estos"
   ]
  },
  {
   "cell_type": "code",
   "execution_count": 2,
   "metadata": {},
   "outputs": [
    {
     "name": "stdout",
     "output_type": "stream",
     "text": [
      "\n",
      " Patrick estaba muy preocupado. Tenia examen en la clase de Programacion con Python, pero como olvidó su compu madreada en su méndigo trabajo no pudo estudiar. Durante el examen no sabia la respuesta a la pregunta numero 1, \"¿Qué es Python?\", El pensó y escribió \"un viborón bien maligno :v\". Al terminar el examen, su maestro, Edgar, le dijo, \"¡Ah como eres cabezón!.\n"
     ]
    }
   ],
   "source": [
    "nombre = input(\"Un nombre masculino: \")\n",
    "materia = input(\"Una materia de la escuela: \")\n",
    "sus1 = input(\"Un sustantivo sin artículo: \")\n",
    "adj1 = input(\"Un adjetivo relacionado: \")\n",
    "adj2 = input(\"otro adjetivo: \")\n",
    "sus2 = input(\"otro sustantivo sin artículo relacionado: \")\n",
    "num = input(\"un número: \")\n",
    "pregunta = input(\"una pregunta de examen con puntuacion: \")\n",
    "respuesta = input(\"una respuesta mamalona: \")\n",
    "profe = input(\"el nombre del maestro de Python: \")\n",
    "frase = input(\"Una frase: \")\n",
    "\n",
    "print(\n",
    "    \"\\n\"+\n",
    "    nombre,\n",
    "    \"estaba muy preocupado. Tenia examen en la clase de\",\n",
    "    materia + \", pero como olvidó su\",\n",
    "    sus1,\n",
    "    adj1,\n",
    "    \"en su\",\n",
    "    adj2,\n",
    "    sus2,\n",
    "    \"no pudo estudiar. Durante el examen no sabia la respuesta\",\n",
    "    \"a la pregunta numero\",\n",
    "    num + ', \"' + pregunta + '\",',\n",
    "    \"El pensó y escribió\",\n",
    "    '\"' + respuesta + '\".',\n",
    "    \"Al terminar el examen, su maestro,\",\n",
    "    profe + \", le dijo,\",\n",
    "    '\"' + frase + \".\",\n",
    ")\n",
    "\n",
    "# Historia plagiada de 'Spanish MadLibs - Flippity.net'"
   ]
  },
  {
   "cell_type": "markdown",
   "metadata": {},
   "source": [
    "## Contador de palabras\n",
    "Le preguntamos al usuario que esta pensand. Acto seguido, lo ignoramos \n",
    "por completo y le decimos el numero de palabras que escribió"
   ]
  },
  {
   "cell_type": "code",
   "execution_count": 4,
   "metadata": {},
   "outputs": [
    {
     "name": "stdout",
     "output_type": "stream",
     "text": [
      "\n",
      "Orale, no pues fijate que escribiste 11 palabras.\n"
     ]
    }
   ],
   "source": [
    "oracion = input(\"¿Qué estás pensando? \")\n",
    "num = len(oracion.split())\n",
    "print(\"\\n\"+\"Orale, no pues fijate que escribiste\", num, \"palabras.\")\n"
   ]
  },
  {
   "cell_type": "markdown",
   "metadata": {},
   "source": [
    "## Información Biográfica\n",
    "Se le pide al usuario que ingrese informacion personal ~~para venderla a empresas de telemarketing~~ una pregunta a la vez. El programa debera verificar que la informcion sea \"valida\" y al final imprimir un resumen de los datos ingresados."
   ]
  },
  {
   "cell_type": "code",
   "execution_count": 5,
   "metadata": {},
   "outputs": [
    {
     "name": "stdout",
     "output_type": "stream",
     "text": [
      "\n",
      "Nombre: Patrick\n",
      "Fecha de nacimiento: 04/26/93\n",
      "Dirección: por ahi\n",
      "Metas personales: ser siempre el mejor, mejor que nadie mas\n"
     ]
    }
   ],
   "source": [
    "from datetime import datetime\n",
    "\n",
    "while True:\n",
    "    nombre = input(\"Escriba su nombre: \")\n",
    "    if not nombre.isalpha():\n",
    "        print(\"Favor de usar solo letras.\")\n",
    "        continue\n",
    "    else:\n",
    "        break\n",
    "\n",
    "while True:\n",
    "    dob = input(\n",
    "        \"Escriba su fecha de nacimiento en el formato (ejem: 2000,1,14): \")\n",
    "    año, mes, dia = map(int, dob.split(','))\n",
    "    if año < 1900 and año > 2020:\n",
    "        print(\"Favor de ingresar una fecha valida.\")\n",
    "        continue\n",
    "    else:\n",
    "        fecha = datetime(año, mes, dia)\n",
    "        break\n",
    "\n",
    "dir = input(\"Escriba su direccion: \")\n",
    "meta = input(\"Escriba sus metas personales: \")\n",
    "\n",
    "print(\n",
    "    \"\\n\" +\n",
    "    \"Nombre: \"+nombre+\"\\n\" +\n",
    "    \"Fecha de nacimiento: \"+(fecha.strftime(\"%x\"))+\"\\n\" +\n",
    "    \"Dirección: \"+dir+\"\\n\" +\n",
    "    \"Metas personales: \"+meta\n",
    ")\n"
   ]
  },
  {
   "cell_type": "markdown",
   "metadata": {},
   "source": [
    "## ¿Cuál es mi acrónimo?\n",
    "El usuario ingresa el nombre completo de una organización o concepto y se le proporcionará su acrónimo al usuario."
   ]
  },
  {
   "cell_type": "code",
   "execution_count": 1,
   "metadata": {},
   "outputs": [
    {
     "name": "stdout",
     "output_type": "stream",
     "text": [
      "EU\n"
     ]
    }
   ],
   "source": [
    "n = input(\"Escriba un nombre completo de una organización o concepto: \")\n",
    "name = (n.replace(\"de\", \"\"))\n",
    "num = name.split()\n",
    "\n",
    "acro = \"\"\n",
    "for i in num:\n",
    "    acro += i[0].upper()\n",
    "\n",
    "print(acro)\n"
   ]
  },
  {
   "cell_type": "markdown",
   "metadata": {},
   "source": [
    "## Piedra, Papel o Tijeras\n",
    "\n",
    "Pos piedra papel o tijeras, pero en Python, ohsi\n"
   ]
  },
  {
   "cell_type": "code",
   "execution_count": 2,
   "metadata": {},
   "outputs": [
    {
     "name": "stdout",
     "output_type": "stream",
     "text": [
      "Piedra ✊ Papel ✋ o Tijeras ✌\n",
      "\n",
      "PC --> ✋ vs ✊ <-- Jugador\n",
      "PC gana!\n"
     ]
    }
   ],
   "source": [
    "from random import randint\n",
    "\n",
    "eleccion = [\"piedra\", \"papel\", \"tijeras\"]\n",
    "compu = eleccion[randint(0, 2)]\n",
    "if compu == \"piedra\":\n",
    "    c = compu.replace(\"piedra\", \"✊\")\n",
    "elif compu == \"papel\":\n",
    "    c = compu.replace(\"papel\", \"✋\")\n",
    "else:\n",
    "    c = compu.replace(\"tijeras\", \"✌\")\n",
    "\n",
    "print(\"Piedra ✊\", \"Papel ✋\", \"o Tijeras ✌\\n\")\n",
    "jugador = input(\"Elije: \").lower()\n",
    "compu = eleccion[randint(0, 2)]\n",
    "\n",
    "if jugador == \"piedra\":\n",
    "    j = jugador.replace(\"piedra\", \"✊\")\n",
    "elif jugador == \"papel\":\n",
    "    j = jugador.replace(\"papel\", \"✋\")\n",
    "else:\n",
    "    j = jugador.replace(\"tijeras\", \"✌\")\n",
    "\n",
    "print(\"PC -->\", c, \"vs\", j, \"<-- Jugador\")\n",
    "\n",
    "if c == j:\n",
    "    print(\"Empáte\")\n",
    "elif c == \"✊\" and j == \"✋\":\n",
    "    print(\"Jugdor gana!\")\n",
    "elif c == \"✊\" and j == \"✌\":\n",
    "    print(\"PC gana!\")\n",
    "elif c == \"✋\" and j == \"✌\":\n",
    "    print(\"Jugador gana!\")\n",
    "elif c == \"✋\" and j == \"✊\":\n",
    "    print(\"PC gana!\")\n",
    "elif c == \"✌\" and j == \"✊\":\n",
    "    print(\"Jugador gana!\")\n",
    "elif c == \"✌\" and j == \"✋\":\n",
    "    print(\"PC gana!\")\n"
   ]
  },
  {
   "cell_type": "markdown",
   "metadata": {},
   "source": [
    "## Adivina el número\n",
    "\n",
    "Le pides a un usuario que adivine un número entre 1 y 50.\n",
    "\n",
    "Si adivinan fuera de ese rango, les indicará un mensaje de error alentándolos a elegir un número dentro del rango adecuado.\n",
    "\n",
    "Cada vez que adivinan el número equivocado, les preguntas si quieren seguir jugando o si quieren dejarlo.\n",
    "\n",
    "Finalmente, cuando el usuario finalmente adivina el número correcto, lo felicita y le muestra la cantidad de intentos que tuvo."
   ]
  },
  {
   "cell_type": "code",
   "execution_count": 3,
   "metadata": {},
   "outputs": [
    {
     "name": "stdout",
     "output_type": "stream",
     "text": [
      "56\n",
      "\n",
      "Fallaste miserablemente\n",
      "Numero fuera del rango, intentalo de nuevo\n",
      "\n",
      "¡Ganaste despues de 2 intentos!\n",
      "¡Felicidades!\n"
     ]
    }
   ],
   "source": [
    "import random\n",
    "\n",
    "\n",
    "comp = random.randint(1, 150)\n",
    "print(comp)\n",
    "\n",
    "\n",
    "def adivina():\n",
    "    i = 1\n",
    "    while True:\n",
    "        n = input(\"Adivina un número del 1 al 150: \")\n",
    "        if n.isalpha():\n",
    "            print(\"Solo numeros, intentalo de nuevo\\n\")\n",
    "            continue\n",
    "        else:\n",
    "            n = int(n)\n",
    "            if n < 1 or n > 150:\n",
    "                print(\"Numero fuera del rango, intentalo de nuevo\\n\")\n",
    "                continue\n",
    "            else:\n",
    "                if n == comp:\n",
    "                    return(\n",
    "                        f\"¡Ganaste despues de {i} intentos!\\n\" +\n",
    "                        \"¡Felicidades!\")\n",
    "                else:\n",
    "                    i += 1\n",
    "                    print(\"\\nFallaste miserablemente\")\n",
    "                    yn = input(\"¿Quieres volver a jugar?(Y/N)\\n\").upper()\n",
    "                    if yn == \"Y\":\n",
    "                        continue\n",
    "                    elif yn == \"N\":\n",
    "                        break\n",
    "\n",
    "\n",
    "print(adivina())\n"
   ]
  },
  {
   "cell_type": "markdown",
   "metadata": {},
   "source": [
    "## Es un palindromo\n",
    "\n",
    "Pídele al usuario que te dé cinco palabras. Luego verifica si alguna de las cinco palabras es un palíndromo.\n",
    "\n",
    "`Un palíndromo` es una palabra que permanece igual ya sea que se lea hacia adelante o hacia atrás."
   ]
  },
  {
   "cell_type": "code",
   "execution_count": 4,
   "metadata": {},
   "outputs": [
    {
     "name": "stdout",
     "output_type": "stream",
     "text": [
      "ingresa una palabra pa' ver si es palindromo\n",
      "ingresa una palabra pa' ver si es palindromo\n",
      "ingresa una palabra pa' ver si es palindromo\n",
      "ingresa una palabra pa' ver si es palindromo\n"
     ]
    }
   ],
   "source": [
    "lst_plbr = []\n",
    "\n",
    "\n",
    "for i in range(5):\n",
    "    print(\"ingresa una palabra pa\\' ver si es palindromo\")\n",
    "    elem = input()\n",
    "    lst_plbr.append(elem)\n",
    "\n",
    "\n",
    "def palindromo(plbr):\n",
    "    if plbr.upper() == plbr[::-1].upper():\n",
    "        return f\"{plbr.upper()} es palindromo\"\n",
    "    else:\n",
    "        return f\"{plbr.upper()} no es palindromo\"\n",
    "\n",
    "\n",
    "for i in range(5):\n",
    "    print(palindromo(lst_plbr[i]))\n"
   ]
  },
  {
   "cell_type": "markdown",
   "metadata": {},
   "source": [
    "## Calcula la propina\n",
    "\n",
    "Su objetivo es averiguar exactamente cuánta propina debe dar después de recibir un servicio. En este escenario, solicite la factura total. Luego muestre la propina para 18%, 20% y 25%.\n",
    "\n",
    "Recuerda que quieres ser amable, así que no olvides redondear. Para impulsar esto más, pregunte por la cantidad de personas involucradas, luego divida equitativamente la propina y el costo total entre ellas.\n",
    "\n",
    "Para ir un paso más allá, divida de manera desigual (por ejemplo, una persona paga el 70 % de la factura mientras que la otra paga el 30 %)."
   ]
  },
  {
   "cell_type": "code",
   "execution_count": 3,
   "metadata": {},
   "outputs": [
    {
     "name": "stdout",
     "output_type": "stream",
     "text": [
      "A usted le corresponde pagar $600.0\n",
      "A usted le corresponde pagar $276.0\n",
      "A usted le corresponde pagar $360.0\n",
      "¡Gracias!\n"
     ]
    }
   ],
   "source": [
    "bill = int(input(\"Ingrese el total de la factura: \"))\n",
    "prcntg = int(input(\"ingrese el porcentaje de propina: \"))\n",
    "\n",
    "\n",
    "def propina():\n",
    "    x = (prcntg / 100) * bill\n",
    "    propina.tip = round(x)\n",
    "    y = input(\n",
    "        f\"El total a pagar de propina es ${(propina.tip)}\\n\" +\n",
    "        \"¿Le gustaria dividirlo equitativamente?\\n\" +\n",
    "        \"Ingrese Si o No: \").upper()\n",
    "    if y == \"SI\":\n",
    "        return equita()\n",
    "    elif y == \"NO\":\n",
    "        return no_equita()\n",
    "\n",
    "\n",
    "def equita():\n",
    "    ppl = int(input(\"¿Entre cuantas personas se divide la cuenta? \"))\n",
    "    x = (bill + (propina.tip)) / ppl\n",
    "    iwales = round(x)\n",
    "    return f\"Les corresponde pagar ${iwales} a cada uno\"\n",
    "\n",
    "\n",
    "def no_equita():\n",
    "    lst_ppl = []\n",
    "    ppl = int(input(\"¿Entre cuantas personas se divide la cuenta? \"))\n",
    "    for i in range(ppl):\n",
    "        x = int(input(f\"Persona {i+1} ¿Que porcentaje va a cubrir? \"))\n",
    "        lst_ppl.append(x)\n",
    "        print(\n",
    "            f\"A usted le corresponde pagar ${((x / 100) * (bill + propina.tip))}\")\n",
    "    return '¡Gracias!'\n",
    "\n",
    "\n",
    "print(propina())\n"
   ]
  },
  {
   "cell_type": "markdown",
   "metadata": {},
   "source": [
    "## Cortador de correo electrónico\n",
    "\n",
    "Recopile una dirección de correo electrónico del usuario y luego averigüe si el usuario tiene un nombre de dominio personalizado o un nombre de dominio popular. Por ejemplo:\n",
    "\n",
    "Este es un proyecto de python conveniente que tiene mucho uso en el futuro. El programa le ayuda a obtener el nombre de usuario y el nombre de dominio de una dirección de correo electrónico.\n",
    "\n",
    "Si desea llevar esto más lejos, puede personalizar la aplicación y enviar un mensaje al anfitrión con esta información."
   ]
  },
  {
   "cell_type": "code",
   "execution_count": null,
   "metadata": {},
   "outputs": [],
   "source": []
  },
  {
   "cell_type": "markdown",
   "metadata": {},
   "source": [
    "## Generador de letras\n",
    "\n",
    "Pida a un usuario que elija de una lista de 10 canciones. Cuando el usuario lo hace, imprime la letra de la canción que seleccionó.\n",
    "\n",
    "Para impulsarlo más, tenga al menos 3 canciones del mismo artista.\n",
    "\n",
    "A continuación, pídale al usuario que ponga el nombre del artista para que pueda mostrarle solo las opciones de ese artista. Luego, el usuario puede seleccionar una canción específica de esa lista."
   ]
  },
  {
   "cell_type": "code",
   "execution_count": null,
   "metadata": {},
   "outputs": [],
   "source": []
  }
 ],
 "metadata": {
  "kernelspec": {
   "display_name": "Python 3.10.8 64-bit",
   "language": "python",
   "name": "python3"
  },
  "language_info": {
   "codemirror_mode": {
    "name": "ipython",
    "version": 3
   },
   "file_extension": ".py",
   "mimetype": "text/x-python",
   "name": "python",
   "nbconvert_exporter": "python",
   "pygments_lexer": "ipython3",
   "version": "3.10.8"
  },
  "orig_nbformat": 4,
  "vscode": {
   "interpreter": {
    "hash": "433d5821f6878cff8ecdf6c044b975ec56750e44a996653da958528f60de06dc"
   }
  }
 },
 "nbformat": 4,
 "nbformat_minor": 2
}
